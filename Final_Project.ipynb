{
 "cells": [
  {
   "cell_type": "markdown",
   "metadata": {},
   "source": [
    "# Analyzing Wages and its impact on Major League Baseball.\n",
    "Purshottam Shivraj\n",
    "\n",
    "DATA 512 Final Project\n",
    "\n",
    "University of Washington, Fall 2018\n",
    "\n",
    "\n",
    "## Introduction\n",
    "MLB has been a popular sport that has attracted talented players and engrossed audiences over several decades however there has been a decline in its popularity over past few decades as mentioned in this article from [1][usatoday](https://www.usatoday.com/story/sports/mlb/2018/09/27/mlb-attendance-down-biggest-slide-decade/1441318002/) and the attendence dropped from 79 Million in 2008 to 69 million in 2018 as per [2][statistica](https://www.statista.com/statistics/193421/regular-season-attendance-in-the-mlb-since-2006/). More alarming is the decline in interest from particular community of people as highlighted by these post from [3][forbes](https://www.forbes.com/sites/leighsteinberg/2018/04/17/why-have-african-american-players-disappeared-in-mlb/#40befe2150df) \n",
    "and [4][Usnews](https://www.usnews.com/opinion/op-ed/articles/2017-07-10/3-reasons-for-the-declining-percentage-of-black-baseball-players-in-the-mlb) where the articles highlights decreasing number of representation of African-american in MLB and quotes this drop to be 18.7% in 1981 to 8.4% in year 2018 additionally emphasizing on overall decline in youth playing baseball.\n",
    "\n",
    "However, it seems that bad weather and format of the game seems less interesting to people and this could potentially explain the drop in attendance for the game, however this doesn't explain the drop in representation of African-American players in MLB.\n",
    "Stories and published works such as from [5][Fangraphs](https://www.fangraphs.com/tht/searching-for-racial-earnings-differentials-in-major-league-baseball/) around wages discrimination has pushed forward for the need to address this burning problem.\n",
    "Though this has its implications on the sport as this would lead to underrepresentation from a community which once played and contributed to the growth of the beautiful sport and probably lesser revenue figures owing to less interest from similar audience group, however the bigger problem could be impact on future aspiring player who would like to play this sport and due to existence of disparity in wage structure might have to lookout for different opportunities.\n",
    "\n",
    "In this analysis, I use the players wages, performance, States demographic distribution data and Race data to investigate the bias in wage distribution and highlight factors what affect wage distribution significantly.\n",
    "\n",
    "## Research Questions\n",
    "\n",
    "My research questions is around a persons race and his salary structure in MLB. There is ever increasing talks around steep drop in African-american players in MLB so I want to explore if disparity in wages is a reason for this decline. On a more Human centred context if such disparity exists this would potentially affect future/aspiring African-american youth/kids to play the beautiful game.\n",
    "\n",
    "**RQ1: What are the most significant factors in determining a players wage in MLB.**\n",
    "\n",
    "**RQ2: How consistently interpretable are these results across algorithms with similar perfromance.**\n",
    "\n",
    "\n",
    "## Background (or Related Work)\n",
    "\n",
    "This project is build on the data-set provided by work done as [6][Racial Salary Discrimination in Major League Baseball: A Closer Look](https://dataverse.harvard.edu/dataset.xhtml?persistentId=doi:10.7910/DVN/ZUMXXL) where author analyzes the impact of Race as an exploratory variable using regression to infer impact of 3 variables Race, contract length and WAR(Wins Above Replacement) on Salary/wages. \n",
    "\n",
    "My understanding is that using just 3 variables based on my analysis of the data I was unable to get a stable cross-validation score for the data set, Hnece my approach takes a non-linear decision boundary contrary to linear decision boundary used by the author.Additional exploratory variables like: Postion played, State, Team played for, Age, Total games played, various perfromance metric and Ratio of white/non-white population of team's state of origin is used as exploratory variables to better explain the impact.\n",
    "\n",
    "## Reproducibility\n",
    "\n",
    "To make the results reproducible I have included all the steps required for data cleaning in this notebook and additionally provided initial setup for the workflow in the Readme.md. All the raw files are available in the repo's ```data``` folder alongside processed data files as well. Alongside this all the graphs/images are also shared in the ```image``` folder."
   ]
  },
  {
   "cell_type": "markdown",
   "metadata": {},
   "source": [
    "## Loading Libraries"
   ]
  },
  {
   "cell_type": "code",
   "execution_count": 2,
   "metadata": {
    "ExecuteTime": {
     "end_time": "2018-12-03T05:33:18.646459Z",
     "start_time": "2018-12-03T05:33:18.643488Z"
    }
   },
   "outputs": [],
   "source": [
    "import pandas as pd\n",
    "import glob\n",
    "import matplotlib.pyplot as plt\n",
    "import numpy as np\n",
    "import seaborn as sns\n",
    "\n",
    "# modeling libraries\n",
    "\n",
    "from sklearn.model_selection import train_test_split\n",
    "import lightgbm as lgb\n",
    "import random\n",
    "from sklearn import preprocessing\n",
    "from sklearn import metrics\n",
    "from sklearn.metrics import mean_absolute_error\n",
    "from sklearn.preprocessing import MinMaxScaler\n",
    "from sklearn.ensemble import RandomForestRegressor\n",
    "import xgboost as xgb\n",
    "\n",
    "\n",
    "pd.set_option('display.float_format', lambda x: '%.3f' % x)\n",
    "sns.set(style=\"whitegrid\")\n",
    "sns.set(rc={'figure.figsize':(12,8)})"
   ]
  },
  {
   "cell_type": "markdown",
   "metadata": {},
   "source": [
    "## Data\n",
    "The primary data for this analysis comes from Dataverse licensed under CC-BY-NC as zipped files from the above-mentioned link as dataverse_files.zip.\n",
    "\n",
    "The dataverse_files.zip contains a zipped file called Original Data.zip which needs to be processed to generate final data: This contains primarily two datasets:\n",
    "\n",
    "* Contract Data: These are present in the form of CSV files for each year 2012 till 2015. These are present as a set of files following the nomenclature: ```[year]_Contract_Data.csv```\n",
    "\n",
    "* WAR Data: WAR is defined as Wins Above Replacement which means A single number that presents the number of wins the player added to the team above what a replacement player (think AAA or AAAA) would add. This definition is taken from Baseball Reference. These are present as a set of files following the nomenclature: ```IMPORTABLE_leagues_MLB_[year]-value-batting_players_value_batting.csv```"
   ]
  },
  {
   "cell_type": "markdown",
   "metadata": {},
   "source": [
    "### Get contract data into single dataframe.\n",
    "\n",
    "Since we have Contract Data split by years we will grab all contract files from the ```Original Data``` folder and concatenate to form a single data frame and creating additinal column called ```year```.\n",
    "There are also some missing and garbage values which we will remove from the dataset to maintain consistency and help further anaysis. Final merged data frame will be saved to ```final_data``` folder as ```contract_data.csv```for future use."
   ]
  },
  {
   "cell_type": "code",
   "execution_count": 3,
   "metadata": {
    "ExecuteTime": {
     "end_time": "2018-12-03T07:15:20.271287Z",
     "start_time": "2018-12-03T07:15:20.158800Z"
    }
   },
   "outputs": [
    {
     "data": {
      "text/html": [
       "<div>\n",
       "<style scoped>\n",
       "    .dataframe tbody tr th:only-of-type {\n",
       "        vertical-align: middle;\n",
       "    }\n",
       "\n",
       "    .dataframe tbody tr th {\n",
       "        vertical-align: top;\n",
       "    }\n",
       "\n",
       "    .dataframe thead th {\n",
       "        text-align: right;\n",
       "    }\n",
       "</style>\n",
       "<table border=\"1\" class=\"dataframe\">\n",
       "  <thead>\n",
       "    <tr style=\"text-align: right;\">\n",
       "      <th></th>\n",
       "      <th>Players</th>\n",
       "      <th>POS</th>\n",
       "      <th>Age</th>\n",
       "      <th>Status</th>\n",
       "      <th>team</th>\n",
       "      <th>years_contract</th>\n",
       "      <th>rk</th>\n",
       "      <th>dollars</th>\n",
       "      <th>year</th>\n",
       "      <th>annual_income</th>\n",
       "    </tr>\n",
       "  </thead>\n",
       "  <tbody>\n",
       "    <tr>\n",
       "      <th>1</th>\n",
       "      <td>Mike Adams</td>\n",
       "      <td>RP</td>\n",
       "      <td>38</td>\n",
       "      <td>Agreed</td>\n",
       "      <td>Phillies</td>\n",
       "      <td>2</td>\n",
       "      <td>39</td>\n",
       "      <td>12000000</td>\n",
       "      <td>2012</td>\n",
       "      <td>6000000.000</td>\n",
       "    </tr>\n",
       "    <tr>\n",
       "      <th>2</th>\n",
       "      <td>Jeremy Affeldt</td>\n",
       "      <td>RP</td>\n",
       "      <td>37</td>\n",
       "      <td>Signed</td>\n",
       "      <td>Giants</td>\n",
       "      <td>3</td>\n",
       "      <td>NR</td>\n",
       "      <td>18000000</td>\n",
       "      <td>2012</td>\n",
       "      <td>6000000.000</td>\n",
       "    </tr>\n",
       "    <tr>\n",
       "      <th>4</th>\n",
       "      <td>Scott Baker</td>\n",
       "      <td>SP</td>\n",
       "      <td>35</td>\n",
       "      <td>Signed</td>\n",
       "      <td>Cubs</td>\n",
       "      <td>1</td>\n",
       "      <td>NR</td>\n",
       "      <td>5500000</td>\n",
       "      <td>2012</td>\n",
       "      <td>5500000.000</td>\n",
       "    </tr>\n",
       "    <tr>\n",
       "      <th>8</th>\n",
       "      <td>Lance Berkman</td>\n",
       "      <td>DH</td>\n",
       "      <td>40</td>\n",
       "      <td>Signed</td>\n",
       "      <td>Rangers</td>\n",
       "      <td>1</td>\n",
       "      <td>NR</td>\n",
       "      <td>11000000</td>\n",
       "      <td>2012</td>\n",
       "      <td>11000000.000</td>\n",
       "    </tr>\n",
       "    <tr>\n",
       "      <th>11</th>\n",
       "      <td>Joe Blanton</td>\n",
       "      <td>RP</td>\n",
       "      <td>35</td>\n",
       "      <td>Signed</td>\n",
       "      <td>Angels</td>\n",
       "      <td>2</td>\n",
       "      <td>43</td>\n",
       "      <td>15000000</td>\n",
       "      <td>2012</td>\n",
       "      <td>7500000.000</td>\n",
       "    </tr>\n",
       "  </tbody>\n",
       "</table>\n",
       "</div>"
      ],
      "text/plain": [
       "           Players POS  Age  Status      team  years_contract  rk   dollars  \\\n",
       "1       Mike Adams  RP   38  Agreed  Phillies               2  39  12000000   \n",
       "2   Jeremy Affeldt  RP   37  Signed    Giants               3  NR  18000000   \n",
       "4      Scott Baker  SP   35  Signed      Cubs               1  NR   5500000   \n",
       "8    Lance Berkman  DH   40  Signed   Rangers               1  NR  11000000   \n",
       "11     Joe Blanton  RP   35  Signed    Angels               2  43  15000000   \n",
       "\n",
       "    year  annual_income  \n",
       "1   2012    6000000.000  \n",
       "2   2012    6000000.000  \n",
       "4   2012    5500000.000  \n",
       "8   2012   11000000.000  \n",
       "11  2012    7500000.000  "
      ]
     },
     "execution_count": 3,
     "metadata": {},
     "output_type": "execute_result"
    }
   ],
   "source": [
    "# getting all contract xls files from the original data folder and appendig them.\n",
    "contract_data = pd.DataFrame()\n",
    "# using regex to get all contract data as they all start with dates 2012_*, 2013_* etc.\n",
    "for file in glob.glob(\"Original Data/201*.xlsx\"):\n",
    "    data = pd.read_excel(file, dtype={'PLAYER':str, 'POS':str,'AGE':str, 'STATUS':str,'YRS':str, 'RK':str, 'DOLLARS':str})\n",
    "    data['year'] = file[file.find(\"Original Data\\\\\" ) +14 : file.find('_')]\n",
    "    data = data.loc[:, ~data.columns.str.startswith('201')]\n",
    "    contract_data = contract_data.append(data)\n",
    "    \n",
    "#cleaning data frame to remove unwanted and missing values. \n",
    "contract_data.columns = ['Players', 'POS', 'Age', 'Status', 'team', 'years_contract', 'rk', 'dollars', 'year']\n",
    "new_df = contract_data[contract_data.Players != 'PLAYER']\n",
    "new_df = new_df[new_df.team != '--']\n",
    "new_df = new_df[(new_df.dollars != '--') & (new_df.dollars != 'DOLLARS') & (new_df.dollars != 'Minor Lg')]\n",
    "new_df = new_df[(new_df.Age != 'AGE')]\n",
    "new_df = new_df[new_df.notna()]\n",
    "\n",
    "#convert datatypes for easier computation later.\n",
    "for col in ['Age','dollars', 'years_contract', 'year']:\n",
    "    new_df[col] = new_df[col].astype('int')\n",
    "for col in ['Players','POS', 'Status', 'team', 'rk']:\n",
    "    new_df[col] = new_df[col].astype('category')\n",
    "# getting annual_income values using get ratio of total dollar amount to contract length.\n",
    "new_df['annual_income'] = new_df['dollars']/new_df['years_contract']\n",
    "new_df['annual_income'] = new_df['annual_income'].astype(float)\n",
    "new_df.to_csv('final_data/contract_data.csv', index=False)\n",
    "new_df.head()"
   ]
  },
  {
   "cell_type": "markdown",
   "metadata": {},
   "source": [
    "### Player Performance Data\n",
    "\n",
    "Since we have players performance data too split by years we will grab all performance files from the ```Original Data``` folder and concatenate to form a single data frame with additional column called ```year```.\n",
    "There are also some missing values which we will remove from the dataset to maintain consistency and help further anaysis. Final merged data frame will be saved to ```final_data```  as ```players_data.csv```folder for future use."
   ]
  },
  {
   "cell_type": "code",
   "execution_count": 4,
   "metadata": {
    "ExecuteTime": {
     "end_time": "2018-12-03T07:15:22.098411Z",
     "start_time": "2018-12-03T07:15:20.489464Z"
    }
   },
   "outputs": [],
   "source": [
    "player_data = pd.DataFrame()\n",
    "# using regex to get all contract data as they all start with  IMPORTABLE_2012_*, IMPORTABLE_2013_* etc.\n",
    "for file in glob.glob(\"Original Data/IMPORTABLE*.xlsx\"):\n",
    "    data = pd.read_excel(file, skip = 1, dtype={'Name':str, 'POS':str,'Age':str, 'Tm':str,'Acquired':str, 'Pos Summary':str})\n",
    "    #extract year component using file regex match\n",
    "    data['year'] = file[file.find(\"MLB_\")+4 : file.find(\"-\")]\n",
    "    player_data = player_data.append(data)\n",
    "player_data = player_data[player_data.Salary != 1]\n",
    "player_data['year'] = player_data['year'].astype(int)\n",
    "player_data.head()\n",
    "player_data.to_csv('final_data/players_data.csv', index=False)"
   ]
  },
  {
   "cell_type": "markdown",
   "metadata": {},
   "source": [
    "Once we have the contract data and players data we'll now merge these two datasets using ```Name,year``` as join key and retain all players information from the players data table. After the join we will impute missing wages in ```player_data``` set using available wages data for a player from ```contract_data```. After imputing wages we'll drop ```annual_income``` variable from the dataset and retain just ```salary``` variable."
   ]
  },
  {
   "cell_type": "code",
   "execution_count": 5,
   "metadata": {
    "ExecuteTime": {
     "end_time": "2018-12-03T07:15:22.309286Z",
     "start_time": "2018-12-03T07:15:22.290616Z"
    }
   },
   "outputs": [
    {
     "data": {
      "text/html": [
       "<div>\n",
       "<style scoped>\n",
       "    .dataframe tbody tr th:only-of-type {\n",
       "        vertical-align: middle;\n",
       "    }\n",
       "\n",
       "    .dataframe tbody tr th {\n",
       "        vertical-align: top;\n",
       "    }\n",
       "\n",
       "    .dataframe thead th {\n",
       "        text-align: right;\n",
       "    }\n",
       "</style>\n",
       "<table border=\"1\" class=\"dataframe\">\n",
       "  <thead>\n",
       "    <tr style=\"text-align: right;\">\n",
       "      <th></th>\n",
       "      <th>Rk</th>\n",
       "      <th>Name</th>\n",
       "      <th>Age</th>\n",
       "      <th>Tm</th>\n",
       "      <th>G</th>\n",
       "      <th>PA</th>\n",
       "      <th>Rbat</th>\n",
       "      <th>Rbaser</th>\n",
       "      <th>Rdp</th>\n",
       "      <th>Rfield</th>\n",
       "      <th>...</th>\n",
       "      <th>waaWL%</th>\n",
       "      <th>162WL%</th>\n",
       "      <th>oWAR</th>\n",
       "      <th>dWAR</th>\n",
       "      <th>oRAR</th>\n",
       "      <th>Salary</th>\n",
       "      <th>Acquired</th>\n",
       "      <th>Pos Summary</th>\n",
       "      <th>year</th>\n",
       "      <th>Players</th>\n",
       "    </tr>\n",
       "  </thead>\n",
       "  <tbody>\n",
       "    <tr>\n",
       "      <th>0</th>\n",
       "      <td>1</td>\n",
       "      <td>Josh Hamilton</td>\n",
       "      <td>29</td>\n",
       "      <td>TEX</td>\n",
       "      <td>133</td>\n",
       "      <td>571</td>\n",
       "      <td>51</td>\n",
       "      <td>4</td>\n",
       "      <td>3</td>\n",
       "      <td>11</td>\n",
       "      <td>...</td>\n",
       "      <td>0.549</td>\n",
       "      <td>0.540</td>\n",
       "      <td>7.500</td>\n",
       "      <td>0.800</td>\n",
       "      <td>74</td>\n",
       "      <td>3250000.000</td>\n",
       "      <td>Traded</td>\n",
       "      <td>78D</td>\n",
       "      <td>2010</td>\n",
       "      <td>NaN</td>\n",
       "    </tr>\n",
       "    <tr>\n",
       "      <th>1</th>\n",
       "      <td>2</td>\n",
       "      <td>Evan Longoria</td>\n",
       "      <td>24</td>\n",
       "      <td>TBR</td>\n",
       "      <td>151</td>\n",
       "      <td>661</td>\n",
       "      <td>30</td>\n",
       "      <td>3</td>\n",
       "      <td>-1</td>\n",
       "      <td>20</td>\n",
       "      <td>...</td>\n",
       "      <td>0.538</td>\n",
       "      <td>0.535</td>\n",
       "      <td>6.000</td>\n",
       "      <td>2.500</td>\n",
       "      <td>58</td>\n",
       "      <td>950000.000</td>\n",
       "      <td>Amateur Draft</td>\n",
       "      <td>5</td>\n",
       "      <td>2010</td>\n",
       "      <td>NaN</td>\n",
       "    </tr>\n",
       "    <tr>\n",
       "      <th>2</th>\n",
       "      <td>3</td>\n",
       "      <td>Robinson Cano</td>\n",
       "      <td>27</td>\n",
       "      <td>NYY</td>\n",
       "      <td>160</td>\n",
       "      <td>696</td>\n",
       "      <td>33</td>\n",
       "      <td>1</td>\n",
       "      <td>-2</td>\n",
       "      <td>16</td>\n",
       "      <td>...</td>\n",
       "      <td>0.534</td>\n",
       "      <td>0.534</td>\n",
       "      <td>6.400</td>\n",
       "      <td>2.200</td>\n",
       "      <td>62</td>\n",
       "      <td>9000000.000</td>\n",
       "      <td>Amateur Free Agent</td>\n",
       "      <td>4/D</td>\n",
       "      <td>2010</td>\n",
       "      <td>NaN</td>\n",
       "    </tr>\n",
       "    <tr>\n",
       "      <th>3</th>\n",
       "      <td>4</td>\n",
       "      <td>Adrian Beltre</td>\n",
       "      <td>31</td>\n",
       "      <td>BOS</td>\n",
       "      <td>154</td>\n",
       "      <td>641</td>\n",
       "      <td>29</td>\n",
       "      <td>2</td>\n",
       "      <td>-2</td>\n",
       "      <td>19</td>\n",
       "      <td>...</td>\n",
       "      <td>0.534</td>\n",
       "      <td>0.533</td>\n",
       "      <td>5.700</td>\n",
       "      <td>2.400</td>\n",
       "      <td>56</td>\n",
       "      <td>9000000.000</td>\n",
       "      <td>Free Agency</td>\n",
       "      <td>5</td>\n",
       "      <td>2010</td>\n",
       "      <td>NaN</td>\n",
       "    </tr>\n",
       "    <tr>\n",
       "      <th>4</th>\n",
       "      <td>5</td>\n",
       "      <td>Albert Pujols</td>\n",
       "      <td>30</td>\n",
       "      <td>STL</td>\n",
       "      <td>159</td>\n",
       "      <td>700</td>\n",
       "      <td>54</td>\n",
       "      <td>3</td>\n",
       "      <td>-2</td>\n",
       "      <td>8</td>\n",
       "      <td>...</td>\n",
       "      <td>0.535</td>\n",
       "      <td>0.534</td>\n",
       "      <td>6.600</td>\n",
       "      <td>-0.200</td>\n",
       "      <td>67</td>\n",
       "      <td>14595953.000</td>\n",
       "      <td>Amateur Draft</td>\n",
       "      <td>3</td>\n",
       "      <td>2010</td>\n",
       "      <td>NaN</td>\n",
       "    </tr>\n",
       "  </tbody>\n",
       "</table>\n",
       "<p>5 rows × 26 columns</p>\n",
       "</div>"
      ],
      "text/plain": [
       "   Rk           Name Age   Tm    G   PA  Rbat  Rbaser  Rdp  Rfield   ...     \\\n",
       "0   1  Josh Hamilton  29  TEX  133  571    51       4    3      11   ...      \n",
       "1   2  Evan Longoria  24  TBR  151  661    30       3   -1      20   ...      \n",
       "2   3  Robinson Cano  27  NYY  160  696    33       1   -2      16   ...      \n",
       "3   4  Adrian Beltre  31  BOS  154  641    29       2   -2      19   ...      \n",
       "4   5  Albert Pujols  30  STL  159  700    54       3   -2       8   ...      \n",
       "\n",
       "   waaWL%  162WL%  oWAR   dWAR  oRAR       Salary            Acquired  \\\n",
       "0   0.549   0.540 7.500  0.800    74  3250000.000              Traded   \n",
       "1   0.538   0.535 6.000  2.500    58   950000.000       Amateur Draft   \n",
       "2   0.534   0.534 6.400  2.200    62  9000000.000  Amateur Free Agent   \n",
       "3   0.534   0.533 5.700  2.400    56  9000000.000         Free Agency   \n",
       "4   0.535   0.534 6.600 -0.200    67 14595953.000       Amateur Draft   \n",
       "\n",
       "   Pos Summary  year  Players  \n",
       "0          78D  2010      NaN  \n",
       "1            5  2010      NaN  \n",
       "2          4/D  2010      NaN  \n",
       "3            5  2010      NaN  \n",
       "4            3  2010      NaN  \n",
       "\n",
       "[5 rows x 26 columns]"
      ]
     },
     "execution_count": 5,
     "metadata": {},
     "output_type": "execute_result"
    }
   ],
   "source": [
    "#merge the two data frame\n",
    "final_data = pd.merge(player_data, new_df[['Players','year','annual_income']], left_on=['Name','year'],right_on=['Players','year'], how='left')\n",
    "#impute missing salary in final data with salary from contract data merge i.e annual income\n",
    "final_data.Salary.fillna(final_data.annual_income, inplace=True)\n",
    "# drop annual income from the data\n",
    "final_data = final_data.drop(['annual_income'], axis=1)\n",
    "final_data.head()"
   ]
  },
  {
   "cell_type": "markdown",
   "metadata": {},
   "source": [
    "Now since we have a data frame with players wage and performance statistics, we'll merge this data with the provided race data which Race attribute for each player, this file can be found as ```Original Data/Player_Race.xlsx```. Owing to missing Race information for some of the players we'll loose some data during the join process."
   ]
  },
  {
   "cell_type": "code",
   "execution_count": 6,
   "metadata": {},
   "outputs": [],
   "source": [
    "players_race = pd.read_excel('Original Data/Player_Race.xlsx')\n",
    "players_race['Race'] = players_race['Race'].apply(lambda x: 'white' if x =='W' else 'non-white')\n",
    "final_data = pd.merge(final_data, players_race, on = 'Name', how='left')\n",
    "final_data = final_data.dropna()\n",
    "final_data = final_data.drop_duplicates()\n",
    "final_data.to_csv('final_data/Final_proccessed_withrace_data.csv', index=False)"
   ]
  },
  {
   "cell_type": "markdown",
   "metadata": {},
   "source": [
    "Lets read the Race distribution across various States in the USA, which is stored in the file ```Original Data/state_rac_data```. This data set is joined the ```final_data``` on \"Team Name\" to get for each player additional information about the team he plays for and how the whites/non-whites population is ditributed in the state for which his team belongs. This additional information can be used as a exploratory variable to check existence of bias owing to higher population desnity for a specific community in a particular state which might reflect in there respectives teams."
   ]
  },
  {
   "cell_type": "code",
   "execution_count": 7,
   "metadata": {
    "ExecuteTime": {
     "end_time": "2018-12-03T07:15:22.915073Z",
     "start_time": "2018-12-03T07:15:22.900725Z"
    }
   },
   "outputs": [],
   "source": [
    "### Add Players race and state race distribution data\n",
    "race_distribution_data = pd.read_csv('state_race_data.csv', encoding='windows-1252')\n",
    "final_data = pd.merge(final_data, race_distribution_data[['Team','state','whites','non-whites','population']], left_on=['Tm'],right_on=['Team'], how='left')\n",
    "#dropping Rank,player ame and additional TM variable which wont be used in model building owing to thier high cardinality\n",
    "final_data = final_data.drop(['Players','Rk','Tm','whites','non-whites'], axis=1)\n",
    "#replaing nan string with NAN attribute\n",
    "final_data['Pos Summary'] = final_data['Pos Summary'].replace('nan', np.nan)\n",
    "final_data = final_data.dropna()\n",
    "final_data['Age'] = final_data['Age'].astype(int)\n",
    "#saving fie for later use and reproducibility.\n",
    "final_data.to_csv('final_data/Final_proccessed_data.csv', index=False)"
   ]
  },
  {
   "cell_type": "markdown",
   "metadata": {},
   "source": [
    "## Exploratory Data Analysis"
   ]
  },
  {
   "cell_type": "markdown",
   "metadata": {},
   "source": [
    "This section we will generate some plots to analyze how variable distribution looks like when compared against wages and see if there is some inherent trend in them.\n",
    "\n",
    "First lets have a look at how wages differ for various position. This seems intuitive as every position has its own importance \n",
    "with some position being paid higher wages owing to thier more influence over the game.\n",
    "Additionally we can also plot Salary with Team name, Year and State. Salary has upward trend with each passing year with Team Name and State showing quite similar wages across various teams and state."
   ]
  },
  {
   "cell_type": "code",
   "execution_count": 8,
   "metadata": {},
   "outputs": [
    {
     "data": {
      "text/plain": [
       "Text(0.5, 1.0, 'Salary vs Position on field')"
      ]
     },
     "execution_count": 8,
     "metadata": {},
     "output_type": "execute_result"
    },
    {
     "data": {
      "image/png": "[encoded data removed]",
      "text/plain": [
       "<Figure size 432x288 with 1 Axes>"
      ]
     },
     "metadata": {
      "needs_background": "light"
     },
     "output_type": "display_data"
    }
   ],
   "source": [
    "# group by on Position of play and get avg salary.\n",
    "position_data = final_data.groupby('Pos Summary', as_index=False)['Salary'].mean().sort_values(by=['Salary'],ascending=False)\n",
    "plt.ticklabel_format(style='plain', axis='y')\n",
    "ax = sns.barplot(x=\"Pos Summary\", y=\"Salary\", data=position_data.head(10))\n",
    "plt.title('Salary vs Position on field')"
   ]
  },
  {
   "cell_type": "code",
   "execution_count": 9,
   "metadata": {},
   "outputs": [
    {
     "data": {
      "text/plain": [
       "Text(0.5, 1.0, 'Salary vs Team')"
      ]
     },
     "execution_count": 9,
     "metadata": {},
     "output_type": "execute_result"
    },
    {
     "data": {
      "image/png": "[encoded data removed]",
      "text/plain": [
       "<Figure size 432x288 with 1 Axes>"
      ]
     },
     "metadata": {
      "needs_background": "light"
     },
     "output_type": "display_data"
    }
   ],
   "source": [
    "# group by on team name and get avg salary.\\\n",
    "state_data = final_data.groupby('Team', as_index=False)['Salary'].mean().sort_values(by='Salary',ascending=False)\n",
    "\n",
    "ax = sns.barplot(x=\"Team\", y=\"Salary\", data=state_data.head(10))\n",
    "plt.title('Salary vs Team')"
   ]
  },
  {
   "cell_type": "code",
   "execution_count": 10,
   "metadata": {},
   "outputs": [
    {
     "data": {
      "text/plain": [
       "Text(0.5, 1.0, 'Salary vs Year')"
      ]
     },
     "execution_count": 10,
     "metadata": {},
     "output_type": "execute_result"
    },
    {
     "data": {
      "image/png": "[encoded data removed]",
      "text/plain": [
       "<Figure size 432x288 with 1 Axes>"
      ]
     },
     "metadata": {
      "needs_background": "light"
     },
     "output_type": "display_data"
    }
   ],
   "source": [
    "# group by on year of transfer of the player and get avg salary.\n",
    "state_data = final_data.groupby('year', as_index=False)['Salary'].mean().sort_values(by='Salary',ascending=False)\n",
    "\n",
    "ax = sns.barplot(x=\"year\", y=\"Salary\", data=state_data.head(10))\n",
    "plt.title('Salary vs Year')"
   ]
  },
  {
   "cell_type": "code",
   "execution_count": 11,
   "metadata": {},
   "outputs": [
    {
     "data": {
      "text/plain": [
       "Text(0.5, 1.0, 'Salary vs State')"
      ]
     },
     "execution_count": 11,
     "metadata": {},
     "output_type": "execute_result"
    },
    {
     "data": {
      "image/png": "[encoded data removed]",
      "text/plain": [
       "<Figure size 432x288 with 1 Axes>"
      ]
     },
     "metadata": {
      "needs_background": "light"
     },
     "output_type": "display_data"
    }
   ],
   "source": [
    "# group by on State of team for which a player plays and get avg salary.\\\n",
    "\n",
    "state_data = final_data.groupby('state', as_index=False)['Salary'].mean().sort_values(by='Salary',ascending=False)\n",
    "\n",
    "ax = sns.barplot(x=\"state\", y=\"Salary\", data=state_data.head(10))\n",
    "plt.title('Salary vs State')"
   ]
  },
  {
   "cell_type": "markdown",
   "metadata": {},
   "source": [
    "The categorical variables showed above has gradual difference in Salary across them, lets look at some Continuous variables as see if there exists some trend. For this lets plot regression plot to show trend with increasing salary.\n",
    "We'll plot Salary with ages, WAR and Games played all of which shows upward trend. However, WAR which is the performance statistics shows highest gradient among all."
   ]
  },
  {
   "cell_type": "code",
   "execution_count": 12,
   "metadata": {},
   "outputs": [
    {
     "name": "stderr",
     "output_type": "stream",
     "text": [
      "C:\\Users\\shivraj\\Anaconda3\\envs\\project\\lib\\site-packages\\scipy\\stats\\stats.py:1713: FutureWarning: Using a non-tuple sequence for multidimensional indexing is deprecated; use `arr[tuple(seq)]` instead of `arr[seq]`. In the future this will be interpreted as an array index, `arr[np.array(seq)]`, which will result either in an error or a different result.\n",
      "  return np.add.reduce(sorted[indexer] * weights, axis=axis) / sumval\n"
     ]
    },
    {
     "data": {
      "text/plain": [
       "Text(0.5, 1.0, 'Salary vs Age')"
      ]
     },
     "execution_count": 12,
     "metadata": {},
     "output_type": "execute_result"
    },
    {
     "data": {
      "image/png": "[encoded data removed]",
      "text/plain": [
       "<Figure size 432x288 with 1 Axes>"
      ]
     },
     "metadata": {
      "needs_background": "light"
     },
     "output_type": "display_data"
    }
   ],
   "source": [
    "ax = sns.regplot(x=\"Age\", y=\"Salary\", data=final_data)\n",
    "plt.ticklabel_format(style='plain', axis='y')\n",
    "plt.title('Salary vs Age')"
   ]
  },
  {
   "cell_type": "markdown",
   "metadata": {},
   "source": [
    "Lets plot the performance variable ```WAR``` which is defined as ```This is the win-loss of an otherwise average team in ONLY the games this player played in``` which shows the highest gradient among all variables when it comes to regress against Salary. This plot is acceptable as this shows how performance remains the influential criteria when it comes to Salary."
   ]
  },
  {
   "cell_type": "code",
   "execution_count": 13,
   "metadata": {},
   "outputs": [
    {
     "data": {
      "image/png": "[encoded data removed]",
      "text/plain": [
       "<Figure size 432x288 with 1 Axes>"
      ]
     },
     "metadata": {
      "needs_background": "light"
     },
     "output_type": "display_data"
    }
   ],
   "source": [
    "ax = sns.regplot(x=\"WAR â–¾\", y=\"Salary\", data=final_data)\n",
    "plt.ticklabel_format(style='plain', axis='y')\n",
    "plt.title('Salary vs WAR')\n",
    "fig = ax.get_figure()"
   ]
  },
  {
   "cell_type": "markdown",
   "metadata": {},
   "source": [
    "A simple regression plot of Salary with Games_played shows an increasing trend for players with higher games recieving higher salaries,\n",
    "which seems intuitive to me as players gets paid for their experience. "
   ]
  },
  {
   "cell_type": "code",
   "execution_count": 14,
   "metadata": {},
   "outputs": [
    {
     "data": {
      "text/plain": [
       "Text(0.5, 1.0, 'Salary vs Games_played')"
      ]
     },
     "execution_count": 14,
     "metadata": {},
     "output_type": "execute_result"
    },
    {
     "data": {
      "image/png": "[encoded data removed]",
      "text/plain": [
       "<Figure size 432x288 with 1 Axes>"
      ]
     },
     "metadata": {
      "needs_background": "light"
     },
     "output_type": "display_data"
    }
   ],
   "source": [
    "ax = sns.regplot(x=\"G\", y=\"Salary\", data=final_data)\n",
    "plt.ticklabel_format(style='plain', axis='y')\n",
    "plt.title('Salary vs Games_played')"
   ]
  },
  {
   "cell_type": "markdown",
   "metadata": {},
   "source": [
    "Finally lets see if there exists a difference in avg salary among whites and non-whites. It seems the avg salary is quite similar."
   ]
  },
  {
   "cell_type": "code",
   "execution_count": 15,
   "metadata": {},
   "outputs": [
    {
     "data": {
      "text/plain": [
       "Text(0.5, 1.0, 'Salary vs Race')"
      ]
     },
     "execution_count": 15,
     "metadata": {},
     "output_type": "execute_result"
    },
    {
     "data": {
      "image/png": "[encoded data removed]",
      "text/plain": [
       "<Figure size 432x288 with 1 Axes>"
      ]
     },
     "metadata": {
      "needs_background": "light"
     },
     "output_type": "display_data"
    }
   ],
   "source": [
    "race_salary_data = final_data.groupby('Race', as_index=False)['Salary'].mean()\n",
    "ax = sns.barplot(x=\"Race\", y=\"Salary\", data=race_salary_data)\n",
    "plt.title('Salary vs Race')"
   ]
  },
  {
   "cell_type": "markdown",
   "metadata": {},
   "source": [
    "## RQ1: What are the most significant factors in determining a players wage in MLB."
   ]
  },
  {
   "cell_type": "markdown",
   "metadata": {},
   "source": [
    "To Answer the research question around the most important variables in determining wages we'll create a decision tree based model using Lightgbm library and try to analyze the variable importance plot to see relative importance of variable which building a regression model on logarithm of wages(we use log to scale variable down).\n",
    "Fo this First we will build a model including performance statistics of a player and another one excluding them, this would help us infer better as to how ```Race``` variable's relative impotance changes based on different covariates."
   ]
  },
  {
   "cell_type": "markdown",
   "metadata": {},
   "source": [
    "### Modelling Building using Lightgbm"
   ]
  },
  {
   "cell_type": "markdown",
   "metadata": {},
   "source": [
    "Since tree based model needs just Numeric variables to make decision splits, we will ```LabelEncode``` the catrgorical features\n",
    "``` ['Acquired','Pos Summary', 'Team','Race','state']```. We will drop variables with high cardinality like ```Name``` which can bias a decision tree model as decision tree splits are vulnerable to higher cardinality. We will also perform scaling of numerical variables with higher range in order to bring all variables to the same scale. Post this we will build a validation set and will benchmark our models performance on this validation set."
   ]
  },
  {
   "cell_type": "markdown",
   "metadata": {},
   "source": [
    "First Lets now run the model with  all performance statistics variables provided by baseball-reference which are : ```['Rbat', 'Rbaser', 'Rdp', 'Rfield', 'Rpos','RAA', 'WAA', 'Rrep', 'RAR','waaWL%', '162WL%', 'oWAR','dWAR', 'oRAR']```. A detailed explaination about these variables can be found in the ```Readme``` section."
   ]
  },
  {
   "cell_type": "code",
   "execution_count": 16,
   "metadata": {},
   "outputs": [
    {
     "name": "stdout",
     "output_type": "stream",
     "text": [
      "\n",
      "Encode Variables\n",
      "Encoding : ['Acquired', 'Pos Summary', 'Team', 'Race', 'state']\n",
      "Training until validation scores don't improve for 50 rounds.\n",
      "Early stopping, best iteration is:\n",
      "[65]\ttrain's l1: 0.542871\tvalid's l1: 0.640261\n",
      "mae: 0.6402608070326378\n"
     ]
    },
    {
     "name": "stderr",
     "output_type": "stream",
     "text": [
      "C:\\Users\\shivraj\\Anaconda3\\envs\\project\\lib\\site-packages\\sklearn\\preprocessing\\data.py:323: DataConversionWarning: Data with input dtype int32, int64, float64 were all converted to float64 by MinMaxScaler.\n",
      "  return self.partial_fit(X, y)\n",
      "C:\\Users\\shivraj\\Anaconda3\\envs\\project\\lib\\site-packages\\lightgbm\\basic.py:1184: UserWarning: Using categorical_feature in Dataset.\n",
      "  warnings.warn('Using categorical_feature in Dataset.')\n",
      "C:\\Users\\shivraj\\Anaconda3\\envs\\project\\lib\\site-packages\\lightgbm\\basic.py:742: UserWarning: categorical_feature in param dict is overridden.\n",
      "  warnings.warn('categorical_feature in param dict is overridden.')\n"
     ]
    },
    {
     "data": {
      "text/plain": [
       "<matplotlib.axes._subplots.AxesSubplot at 0x2533f60aef0>"
      ]
     },
     "execution_count": 16,
     "metadata": {},
     "output_type": "execute_result"
    },
    {
     "data": {
      "image/png": "[encoded data removed]",
      "text/plain": [
       "<Figure size 1440x720 with 1 Axes>"
      ]
     },
     "metadata": {
      "needs_background": "light"
     },
     "output_type": "display_data"
    }
   ],
   "source": [
    "# Prepare data\n",
    "final_data_model = final_data.copy()\n",
    "# using pre-defined tree parameters which works best in most of the cases.\n",
    "lgbm_params =  {\n",
    "    'task': 'train',\n",
    "    'boosting_type': 'gbdt',\n",
    "    'objective': 'regression',\n",
    "    'metric': 'mean_absolute_error',\n",
    "    'max_depth': 10,\n",
    "    'feature_fraction': 0.5,\n",
    "    'bagging_fraction': 0.9,\n",
    "    'learning_rate': 0.016,\n",
    "    'verbose': 0\n",
    "}  \n",
    "\n",
    "print(\"\\nEncode Variables\")\n",
    "categorical = ['Acquired','Pos Summary', 'Team','Race','state']\n",
    "print(\"Encoding :\",categorical)\n",
    "final_data_model = final_data.copy()\n",
    "\n",
    "# Label Encoder:\n",
    "label_encoder = preprocessing.LabelEncoder()\n",
    "for col in categorical:\n",
    "    final_data_model[col] = final_data_model[col].astype(str)\n",
    "    final_data_model[col] = label_encoder.fit_transform(final_data_model[col].astype(str))   \n",
    "    \n",
    "#selecting variables as features for the model\n",
    "X = final_data_model.drop(['Name', 'Salary','PA'], axis=1)\n",
    "\n",
    "# separating target variable, we will convert to log scale owing to large scale of the variable.\n",
    "y = np.log(final_data_model['Salary'].values)\n",
    "\n",
    "#scaling all numeric variables to same scale for consistency.\n",
    "scaler = MinMaxScaler()\n",
    "num_cols = X.columns[X.dtypes.apply(lambda c: np.issubdtype(c, np.number))]\n",
    "# ref: https://stackoverflow.com/questions/48673402/how-can-i-standardize-only-numeric-variables-in-an-sklearn-pipeline\n",
    "num_cols = ['Age','G','WAR â–¾']\n",
    "X[num_cols] = scaler.fit_transform(X[num_cols])\n",
    "\n",
    "#preparing validation data for model performance\n",
    "x_train, x_valid, y_train, y_valid = train_test_split(X, y, test_size=0.10, random_state=2019)\n",
    "\n",
    "#converting data to lightgbm's expected data format which is matrix.\n",
    "d_train = lgb.Dataset(x_train, label=y_train,categorical_feature = categorical)\n",
    "d_valid = lgb.Dataset(x_valid, label=y_valid,categorical_feature = categorical)\n",
    "watchlist = [d_valid]\n",
    "\n",
    "#model training\n",
    "lgb_model_with_performance = lgb.train(\n",
    "    lgbm_params,\n",
    "    d_train,\n",
    "    num_boost_round=20000,\n",
    "    valid_sets=[d_train, d_valid],\n",
    "    valid_names=['train','valid'],\n",
    "    early_stopping_rounds=50,\n",
    "    verbose_eval=500\n",
    ")\n",
    "\n",
    "#making predictions\n",
    "preds = lgb_model_with_performance.predict(x_valid)\n",
    "\n",
    "#computing error, mean absolute error\n",
    "err = metrics.mean_absolute_error(y_valid, preds)\n",
    "print('mae:', err)\n",
    "feature_imp = pd.DataFrame(sorted(zip(lgb_model_with_performance.feature_importance(),x_train.columns)), columns=['Importance','Feature'])\n",
    "\n",
    "plt.figure(figsize=(20, 10))\n",
    "sns.barplot(x=\"Importance\", y=\"Feature\", data=feature_imp.sort_values(by=\"Importance\", ascending=False))"
   ]
  },
  {
   "cell_type": "markdown",
   "metadata": {},
   "source": [
    "First Lets now run the same model without the performance statistics variables provided by baseball-reference which are : ```['Rbat', 'Rbaser', 'Rdp', 'Rfield', 'Rpos','RAA', 'WAA', 'Rrep', 'RAR','waaWL%', '162WL%', 'oWAR','dWAR', 'oRAR']```. We do this to see if Race still remain a insignificant variable in determining wages."
   ]
  },
  {
   "cell_type": "code",
   "execution_count": 17,
   "metadata": {},
   "outputs": [
    {
     "name": "stdout",
     "output_type": "stream",
     "text": [
      "\n",
      "Encode Variables\n",
      "Encoding : ['Acquired', 'Pos Summary', 'Team', 'Race', 'state']\n",
      "Training until validation scores don't improve for 50 rounds.\n",
      "Early stopping, best iteration is:\n",
      "[275]\ttrain's l1: 0.47715\tvalid's l1: 0.559893\n",
      "mae: 0.5598928771255993\n"
     ]
    },
    {
     "name": "stderr",
     "output_type": "stream",
     "text": [
      "C:\\Users\\shivraj\\Anaconda3\\envs\\project\\lib\\site-packages\\sklearn\\preprocessing\\data.py:323: DataConversionWarning: Data with input dtype int32, int64, float64 were all converted to float64 by MinMaxScaler.\n",
      "  return self.partial_fit(X, y)\n",
      "C:\\Users\\shivraj\\Anaconda3\\envs\\project\\lib\\site-packages\\lightgbm\\basic.py:1184: UserWarning: Using categorical_feature in Dataset.\n",
      "  warnings.warn('Using categorical_feature in Dataset.')\n",
      "C:\\Users\\shivraj\\Anaconda3\\envs\\project\\lib\\site-packages\\lightgbm\\basic.py:742: UserWarning: categorical_feature in param dict is overridden.\n",
      "  warnings.warn('categorical_feature in param dict is overridden.')\n"
     ]
    }
   ],
   "source": [
    "# Prepare data\n",
    "final_data['Age'] = final_data['Age'].astype(int)\n",
    "final_data_model = final_data.copy()\n",
    "# using pre-defined tree parameters which works best in most of the cases.\n",
    "lgbm_params =  {\n",
    "    'task': 'train',\n",
    "    'boosting_type': 'gbdt',\n",
    "    'objective': 'regression',\n",
    "    'metric': 'mean_absolute_error',\n",
    "    'max_depth': 12,\n",
    "    'feature_fraction': 0.95,\n",
    "    'bagging_fraction': 0.9,\n",
    "    'learning_rate': 0.016,\n",
    "    'verbose': 0\n",
    "}  \n",
    "\n",
    "print(\"\\nEncode Variables\")\n",
    "categorical = ['Acquired','Pos Summary', 'Team','Race','state']\n",
    "print(\"Encoding :\",categorical)\n",
    "final_data_model = final_data.copy()\n",
    "\n",
    "# Label Encoder:\n",
    "label_encoder = preprocessing.LabelEncoder()\n",
    "for col in categorical:\n",
    "    final_data_model[col] = final_data_model[col].astype(str)\n",
    "    final_data_model[col] = label_encoder.fit_transform(final_data_model[col].astype(str))   \n",
    "    \n",
    "#selecting variables as features for the model\n",
    "X = final_data_model.drop(['Name', 'Salary','Rbat', 'Rbaser', 'Rdp', 'Rfield', 'Rpos',\n",
    "       'RAA', 'WAA', 'Rrep', 'RAR','waaWL%', '162WL%', 'oWAR',\n",
    "       'dWAR', 'oRAR','population','PA','year'], axis=1)\n",
    "\n",
    "# separating target variable, we will convert to log scale owing to large scale of the variable.\n",
    "y = np.log(final_data_model['Salary'].values)\n",
    "\n",
    "#scaling all numeric variables to same scale for consistency.\n",
    "scaler = MinMaxScaler()\n",
    "num_cols = X.columns[X.dtypes.apply(lambda c: np.issubdtype(c, np.number))]\n",
    "num_cols = ['Age','G','WAR â–¾']\n",
    "X[num_cols] = scaler.fit_transform(X[num_cols])\n",
    "\n",
    "#preparing validation data for model performance\n",
    "x_train, x_valid, y_train, y_valid = train_test_split(X, y, test_size=0.20, random_state=2019)\n",
    "\n",
    "#converting data to lightgbm's expected data format which is matrix.\n",
    "d_train = lgb.Dataset(x_train, label=y_train,categorical_feature = categorical)\n",
    "d_valid = lgb.Dataset(x_valid, label=y_valid,categorical_feature = categorical)\n",
    "watchlist = [d_valid]\n",
    "\n",
    "#model training\n",
    "lgb_model_non_performance = lgb.train(\n",
    "    lgbm_params,\n",
    "    d_train,\n",
    "    num_boost_round=20000,\n",
    "    valid_sets=[d_train, d_valid],\n",
    "    valid_names=['train','valid'],\n",
    "    early_stopping_rounds=50,\n",
    "    verbose_eval=500\n",
    ")\n",
    "\n",
    "#making predictions\n",
    "preds = lgb_model_non_performance.predict(x_valid)\n",
    "\n",
    "#computing error, mean absolute error\n",
    "err = metrics.mean_absolute_error(y_valid, preds)\n",
    "print('mae:', err)"
   ]
  },
  {
   "cell_type": "code",
   "execution_count": 18,
   "metadata": {},
   "outputs": [
    {
     "data": {
      "text/plain": [
       "<matplotlib.axes._subplots.AxesSubplot at 0x2533f7744a8>"
      ]
     },
     "execution_count": 18,
     "metadata": {},
     "output_type": "execute_result"
    },
    {
     "data": {
      "image/png": "[encoded data removed]",
      "text/plain": [
       "<Figure size 1440x720 with 1 Axes>"
      ]
     },
     "metadata": {
      "needs_background": "light"
     },
     "output_type": "display_data"
    }
   ],
   "source": [
    "color_mapping = {\"Pos Summary\" : \"C0\", \"state\" : \"C1\", \"Acquired\" : \"C2\", \"Team\" : \"C3\", \"Race\" : \"C4\", \"Age\": \"C5\",\"WAR â–¾\": \"C6\",\n",
    "                \"G\":\"C7\"}\n",
    "feature_imp = pd.DataFrame(sorted(zip(lgb_model_non_performance.feature_importance(),x_train.columns)), columns=['Importance','Feature'])\n",
    "\n",
    "plt.figure(figsize=(20, 10))\n",
    "sns.barplot(x=\"Importance\", y=\"Feature\", data=feature_imp.sort_values(by=\"Importance\", ascending=False), palette=color_mapping)"
   ]
  },
  {
   "cell_type": "markdown",
   "metadata": {},
   "source": [
    "Based on the Two variable importance plot we can see that Race is Not coming as a significant variable when compared to others in determining wages. More importantly performance statitsics variables are coming important that wages which is good to see as this reinforces the idea that performance is more important than Race in determining wages."
   ]
  },
  {
   "cell_type": "markdown",
   "metadata": {},
   "source": [
    "### RQ:2 Consistency across various model with same performance."
   ]
  },
  {
   "cell_type": "markdown",
   "metadata": {},
   "source": [
    "Having see the variable importance plot which is quite helpful in determining the variables significance in analyzing which ar more significant than others in explaining the variance in ```wages``` for a player and since decision trees are widely used as inference based models, my next research question is around how consistent these decision tree based models are. For this i would be using the same validation data as above and train two additional ```xgboost``` and ```random forest``` based model and check how variable importance plot looks for these two model run. In order to compare equivalent model, I have optimized the hyperparameters to make the ```Mean absolute error``` of these models comparable to one of the ```lightgbm``` model trained above this way we can compare apples to apples."
   ]
  },
  {
   "cell_type": "markdown",
   "metadata": {},
   "source": [
    "### Random Forest model"
   ]
  },
  {
   "cell_type": "code",
   "execution_count": 19,
   "metadata": {},
   "outputs": [
    {
     "name": "stdout",
     "output_type": "stream",
     "text": [
      "mae: 0.5668383210639013\n"
     ]
    },
    {
     "data": {
      "text/plain": [
       "<matplotlib.axes._subplots.AxesSubplot at 0x2533edef710>"
      ]
     },
     "execution_count": 19,
     "metadata": {},
     "output_type": "execute_result"
    },
    {
     "data": {
      "image/png": "[encoded data removed]",
      "text/plain": [
       "<Figure size 1440x720 with 1 Axes>"
      ]
     },
     "metadata": {
      "needs_background": "light"
     },
     "output_type": "display_data"
    }
   ],
   "source": [
    "#build a random forest model\n",
    "random_forest = RandomForestRegressor(random_state=42,n_estimators = 100, max_features = 'sqrt',max_depth=10)\n",
    "\n",
    "random_forest.fit(x_train,y_train)\n",
    "preds = random_forest.predict(x_valid)\n",
    "err = metrics.mean_absolute_error(y_valid, preds)\n",
    "print('mae:', err)\n",
    "#https://stackoverflow.com/questions/41900387/mapping-column-names-to-random-forest-feature-importances\n",
    "feature_imp = pd.DataFrame(sorted(zip(random_forest.feature_importances_,x_train.columns)), columns=['Importance','Feature'])\n",
    "\n",
    "plt.figure(figsize=(20, 10))\n",
    "sns.barplot(x=\"Importance\", y=\"Feature\", data=feature_imp.sort_values(by=\"Importance\", ascending=False),palette=color_mapping)"
   ]
  },
  {
   "cell_type": "markdown",
   "metadata": {},
   "source": [
    " ### xgboost"
   ]
  },
  {
   "cell_type": "code",
   "execution_count": 20,
   "metadata": {},
   "outputs": [],
   "source": [
    "%%capture\n",
    "#define xgboost tree parameters\n",
    "xgb_params =  {\n",
    "    'objective': 'reg:linear',\n",
    "    'eval_metric': 'mae',\n",
    "    'max_depth': 12,\n",
    "    'eta': 0.001,\n",
    "    'feature_fraction': 0.9,\n",
    "    'bagging_fraction': 0.9,\n",
    "    'learning_rate': 0.016,\n",
    "    'verbose': 0\n",
    "}  \n",
    "\n",
    "#build data matrix for xgboost algo\n",
    "d_train = xgb.DMatrix(x_train, label=y_train)\n",
    "d_valid = xgb.DMatrix(x_valid, label=y_valid)\n",
    "watchlist = [(d_train, 'train'), (d_valid, 'valid')]\n",
    "\n",
    "xgb_model = xgb.train(\n",
    "    xgb_params,\n",
    "    d_train,\n",
    "    20000,\n",
    "    watchlist,\n",
    "    early_stopping_rounds=50,\n",
    "    verbose_eval=0\n",
    ")"
   ]
  },
  {
   "cell_type": "code",
   "execution_count": 21,
   "metadata": {},
   "outputs": [
    {
     "name": "stdout",
     "output_type": "stream",
     "text": [
      "mae: 0.6039541872072535\n"
     ]
    },
    {
     "data": {
      "text/plain": [
       "<matplotlib.axes._subplots.AxesSubplot at 0x2533fb56be0>"
      ]
     },
     "execution_count": 21,
     "metadata": {},
     "output_type": "execute_result"
    },
    {
     "data": {
      "image/png": "[encoded data removed]",
      "text/plain": [
       "<Figure size 1440x720 with 1 Axes>"
      ]
     },
     "metadata": {
      "needs_background": "light"
     },
     "output_type": "display_data"
    }
   ],
   "source": [
    "preds = xgb_model.predict(d_valid)\n",
    "\n",
    "err = metrics.mean_absolute_error(y_valid, preds)\n",
    "print('mae:', err)\n",
    "feature_imp = pd.DataFrame(sorted(zip(list(xgb_model.get_score(importance_type='weight').values()),x_train.columns)), columns=['Importance','Feature'])\n",
    "\n",
    "plt.figure(figsize=(20, 10))\n",
    "sns.barplot(x=\"Importance\", y=\"Feature\", data=feature_imp.sort_values(by=\"Importance\", ascending=False),palette=color_mapping)"
   ]
  },
  {
   "cell_type": "markdown",
   "metadata": {},
   "source": [
    "As we can see all three decision tree based model had similar scores but had varying variable importance plot.\n",
    "\n",
    "The Performance table shown below shows very similar perfromance for all three models, which is what is being optimized in various machine learning pipelines.\n",
    "\n",
    "| Model         | Performance(MAE)   |\n",
    "|---------------|--------------------|\n",
    "| Lightgbm      | 0.55  |\n",
    "| Xgboost       | 0.59  |\n",
    "| Random Forest | 0.56  |\n",
    "\n",
    "\n",
    "However as we can see from the variable importance plot generated above varies alot between models.\n",
    "For ```Lightgbm``` : ```[Games played, WAR and Acquired]``` are top features\n",
    "For ```Xgboost``` : ```[Position, Age, Games played]``` are top features\n",
    "For ```Random Forest``` : ```[Games played, WAR, Position]``` are top features.\n",
    "\n",
    "Thus even for limited number of features(8 in our case) there is not much consistency as to which variable is more significant in making inferences around ```wages```. Thus inference based just on one model is not actaully correct and one might need to run multiple runs of different model architecture to make any inferences."
   ]
  },
  {
   "cell_type": "markdown",
   "metadata": {},
   "source": [
    "# Data Limitations / Limitations of Analysis"
   ]
  },
  {
   "cell_type": "markdown",
   "metadata": {},
   "source": [
    "## Future Work\n",
    "\n",
    "Having read about and intrigued by the application and success of Mixed models in Data science, I would be looking to extend the current work to a more mixed method approach. Though the work presented above covers the quantitative aspect of the analysis I am  particulalry interested in extending this and incorporating the qualitative analysis by doing  market research and including stakeholders with better domain knowledge.\n",
    "A very informative discussion during the presentation that was brought up was how ```Games played``` consistently came important across various model run and how this variable is affected by ```Race``` variable i.e Race might decide who gets to play more games, thus future work would involve analyzing this causal and effect analysis of this aspect of analysis which was not considered here.\n",
    "\n",
    "Additionally the Race data is incomplete and is not avalibale for lot of players thus extending the data-set would also be a step forward towards a more elaborate and conclusive analysis.\n"
   ]
  },
  {
   "cell_type": "markdown",
   "metadata": {},
   "source": [
    "# Conclusion\n",
    "\n",
    "My conclusions around two research question are:\n",
    "\n",
    "***RQ1 : Players performance statistics is more important than Race in determining wages. ***\n",
    "\n",
    "***RQ2 : Interpretability across similar performing Algorithms is not consistent. ***\n",
    "\n",
    "**RQ1**: Based on the two variable importance plots one including Players performance statistics and one exluding the performance statistics we can see that ```Race``` didn't come up as most influential variable and thus we can infer that performance remains the more important measuring criteria in determining the players wage.\n",
    "\n",
    "However following discussion and recieving feedback one important perspective that came out was that Number of games played remained consistently the most important variable across models and one source of bias than can be present in the data could be owing to Racial discrimination the games played by a non-white player might be less and thus this information might get consumed in model's inferences and thus just because a non-white was discriminated when it came to game time his there might exist a correlation between Race and Games played. Though this inference is speculation for now which needs further analysis. \n",
    "\n",
    "**RQ2**: My second research question was around how consistent are tree based models when it comes to providing inferences about important features for making predictions. Since I used 3 different tree models which have similar underlying boosting framework and are primarliy different in how they make decision splits so it was interesting to analyze if these tree based models with similar performance would yeild similar inferences ?\n",
    "\n",
    "Since while building a machine learning model we are mostly interested in optimizing for loss function(in my case Mean absolute error), but it was interesting to see that all three tree based model produced different feature importance for same train and validation data and thus though these tree based models are touted as something that makes machine learning interpretible looking at the results I have questions around how consistent are these algorithms while making inferences about similar data with similar performance optimization.\n",
    "In colclusion I would recommend building multiple tree based models and cross reference each of them before making final inference, as inference based on just one tree based models might not be conclusive enough."
   ]
  },
  {
   "cell_type": "markdown",
   "metadata": {},
   "source": [
    "# References\n",
    "[1]https://www.usatoday.com/story/sports/mlb/2018/09/27/mlb-attendance-down-biggest-slide-decade/1441318002/\n",
    "\n",
    "[2]https://www.statista.com/statistics/193421/regular-season-attendance-in-the-mlb-since-2006/\n",
    "\n",
    "[3]https://www.forbes.com/sites/leighsteinberg/2018/04/17/why-have-african-american-players-disappeared-in-mlb/#40b67ff750df\n",
    "\n",
    "[4]https://www.usnews.com/opinion/op-ed/articles/2017-07-10/3-reasons-for-the-declining-percentage-of-black-baseball-players-in-the-mlb\n",
    "\n",
    "[5]https://www.fangraphs.com/tht/searching-for-racial-earnings-differentials-in-major-league-baseball/\n",
    "\n",
    "[6]https://dataverse.harvard.edu/dataset.xhtml?persistentId=doi:10.7910/DVN/ZUMXXL"
   ]
  },
  {
   "cell_type": "markdown",
   "metadata": {},
   "source": [
    "# Other Resources\n",
    "https://www.rand.org/pubs/research_memoranda/RM6227.html\n",
    "\n",
    "https://digitalcommons.iwu.edu/cgi/viewcontent.cgi?article=1022&context=econ_honproj"
   ]
  }
 ],
 "metadata": {
  "kernelspec": {
   "display_name": "Python 3",
   "language": "python",
   "name": "python3"
  },
  "language_info": {
   "codemirror_mode": {
    "name": "ipython",
    "version": 3
   },
   "file_extension": ".py",
   "mimetype": "text/x-python",
   "name": "python",
   "nbconvert_exporter": "python",
   "pygments_lexer": "ipython3",
   "version": "3.6.7"
  },
  "varInspector": {
   "cols": {
    "lenName": 16,
    "lenType": 16,
    "lenVar": 40
   },
   "kernels_config": {
    "python": {
     "delete_cmd_postfix": "",
     "delete_cmd_prefix": "del ",
     "library": "var_list.py",
     "varRefreshCmd": "print(var_dic_list())"
    },
    "r": {
     "delete_cmd_postfix": ") ",
     "delete_cmd_prefix": "rm(",
     "library": "var_list.r",
     "varRefreshCmd": "cat(var_dic_list()) "
    }
   },
   "types_to_exclude": [
    "module",
    "function",
    "builtin_function_or_method",
    "instance",
    "_Feature"
   ],
   "window_display": false
  }
 },
 "nbformat": 4,
 "nbformat_minor": 2
}
